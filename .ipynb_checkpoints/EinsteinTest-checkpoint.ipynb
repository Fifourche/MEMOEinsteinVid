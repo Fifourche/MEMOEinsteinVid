{
 "cells": [
  {
   "cell_type": "code",
   "execution_count": 1,
   "metadata": {},
   "outputs": [
    {
     "data": {
      "text/html": [
       "<pre style=\"white-space:pre;overflow-x:auto;line-height:normal;font-family:Menlo,'DejaVu Sans Mono',consolas,'Courier New',monospace\">Manim Community <span style=\"color: #008000\">v0.6.0</span>\n",
       "\n",
       "</pre>\n"
      ],
      "text/plain": [
       "<rich.jupyter.JupyterRenderable at 0x2195186a548>"
      ]
     },
     "metadata": {},
     "output_type": "display_data"
    }
   ],
   "source": [
    "from manim import *"
   ]
  },
  {
   "cell_type": "markdown",
   "metadata": {},
   "source": [
    "# Équations - Eisntein"
   ]
  },
  {
   "cell_type": "code",
   "execution_count": 2,
   "metadata": {},
   "outputs": [
    {
     "name": "stderr",
     "output_type": "stream",
     "text": [
      "                                                                                                                       \r"
     ]
    },
    {
     "data": {
      "text/html": [
       "<video src=\"media\\jupyter\\2ac91d65ae8f8a69ee2cdc442ffd26ee4eb9044e.mp4\" controls autoplay loop style=\"max-width: 25vw;\"  >\n",
       "      Your browser does not support the <code>video</code> element.\n",
       "    </video>"
      ],
      "text/plain": [
       "<IPython.core.display.Video object>"
      ]
     },
     "metadata": {},
     "output_type": "display_data"
    }
   ],
   "source": [
    "%%manim -v CRITICAL -ql EinsteinPart1 \n",
    "\n",
    "class EinsteinPart1(Scene):\n",
    "        \n",
    "    def construct(self):\n",
    "        eq1 = MathTex(\"E_{\\\\nu}\", \" = \", \"\\\\bar{E}\", \" = \", \"\\\\frac{R}{N}T\")\n",
    "        eq2 = MathTex(\"{ \", \"L^3\", \" \\\\over \", \"8\\\\pi\", \"\\\\nu^2\",\" }\",\"\\\\rho_{\\\\nu}\", \" = \", \"\\\\frac{R}{N}T\")\n",
    "        eq3 = MathTex(\"\\\\rho_{\\\\nu}\", \" = {\", \"8\\\\pi\", \"\\\\frac{R}{N}T\", \" \\\\over \", \"L^3\", \" }\", \"\\\\nu^2\")\n",
    "        \n",
    "        play_kw = {\"run_time\": 1}\n",
    "        \n",
    "        lines = VGroup(eq1, eq2, eq3)\n",
    "        lines.arrange(DOWN, buff=LARGE_BUFF)\n",
    "        eq1, eq2, eq3 = tuple(lines)\n",
    "        \n",
    "        self.add(eq1)\n",
    "\n",
    "        self.play(TransformMatchingTex(eq1.copy(), eq2),**play_kw)\n",
    "        self.wait(1)\n",
    "        self.play(TransformMatchingTex(eq2.copy(), eq3), **play_kw)\n",
    "        self.wait(1)"
   ]
  },
  {
   "cell_type": "code",
   "execution_count": null,
   "metadata": {},
   "outputs": [],
   "source": []
  }
 ],
 "metadata": {
  "kernelspec": {
   "display_name": "Python 3",
   "language": "python",
   "name": "python3"
  },
  "language_info": {
   "codemirror_mode": {
    "name": "ipython",
    "version": 3
   },
   "file_extension": ".py",
   "mimetype": "text/x-python",
   "name": "python",
   "nbconvert_exporter": "python",
   "pygments_lexer": "ipython3",
   "version": "3.7.6"
  }
 },
 "nbformat": 4,
 "nbformat_minor": 4
}
