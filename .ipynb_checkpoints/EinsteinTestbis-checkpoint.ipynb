{
 "cells": [
  {
   "cell_type": "code",
   "execution_count": 1,
   "metadata": {},
   "outputs": [
    {
     "data": {
      "text/html": [
       "<pre style=\"white-space:pre;overflow-x:auto;line-height:normal;font-family:Menlo,'DejaVu Sans Mono',consolas,'Courier New',monospace\">Manim Community <span style=\"color: #008000\">v0.6.0</span>\n",
       "\n",
       "</pre>\n"
      ],
      "text/plain": [
       "<rich.jupyter.JupyterRenderable at 0x1cdcf913108>"
      ]
     },
     "metadata": {},
     "output_type": "display_data"
    }
   ],
   "source": [
    "from manim import *\n",
    "import numpy as np\n",
    "from numpy.random import default_rng\n",
    "\n",
    "from custom_objects import *"
   ]
  },
  {
   "cell_type": "markdown",
   "metadata": {
    "tags": []
   },
   "source": [
    "# Equations - Einstein"
   ]
  },
  {
   "cell_type": "markdown",
   "metadata": {
    "tags": []
   },
   "source": [
    "## Introduction"
   ]
  },
  {
   "cell_type": "code",
   "execution_count": 2,
   "metadata": {
    "tags": []
   },
   "outputs": [
    {
     "name": "stderr",
     "output_type": "stream",
     "text": [
      "                                                                                           \r"
     ]
    },
    {
     "data": {
      "text/html": [
       "<video src=\"media\\jupyter\\af145e06f3a41f6f37aff052bdcabc43d2a0db0c.mp4\" controls autoplay loop style=\"max-width: 25vw;\"  >\n",
       "      Your browser does not support the <code>video</code> element.\n",
       "    </video>"
      ],
      "text/plain": [
       "<IPython.core.display.Video object>"
      ]
     },
     "metadata": {},
     "output_type": "display_data"
    }
   ],
   "source": [
    "%%manim -v CRITICAL -ql GasInBox\n",
    "\n",
    "class EmptyBox(ThreeDScene):\n",
    "    def __init__(self, run_time = 2, **kwargs):\n",
    "        super().__init__()\n",
    "        self.run_time = run_time\n",
    "        self.arguments = kwargs    \n",
    "    \n",
    "    def construct(self):      \n",
    "        cube = WireCube(**self.arguments)\n",
    "        self.set_camera_orientation(phi=75 * DEGREES, theta=30 * DEGREES)\n",
    "        self.play(Create(cube), run_time = self.run_time)\n",
    "        \n",
    "    def __call__(self):\n",
    "        return self\n",
    "        \n",
    "class GasInBox(ThreeDScene):\n",
    "    def __init__(self, side = 4., center = np.array([0.,0.,0.]),\n",
    "                 N = 15, radius = 0.1, v_mean = 4./1.,\n",
    "                run_time = 2, sim_time = 4):\n",
    "\n",
    "        super().__init__()\n",
    "        \n",
    "        self.run_time = run_time\n",
    "        \n",
    "        # Create box\n",
    "        self.box = WireCube(side=side, center=center)\n",
    "        \n",
    "        # Create gas\n",
    "        x_lims = np.array([-side/2, side/2]) + center[0]\n",
    "        y_lims = np.array([-side/2, side/2]) + center[1]\n",
    "        z_lims = np.array([-side/2, side/2]) + center[2]\n",
    "        \n",
    "        self.gas = Gas(N = N, radius = radius, v_mean = v_mean, x_lims = x_lims, y_lims = y_lims, z_lims = z_lims, run_time = run_time, sim_time = sim_time)\n",
    "\n",
    "        \n",
    "    def construct(self):        \n",
    "        self.set_camera_orientation(phi=75 * DEGREES, theta=30 * DEGREES)\n",
    "        self.renderer.camera.light_source.move_to(3*IN) # changes the source of the light\n",
    "        \n",
    "        self.play(Create(self.box), run_time = self.run_time)\n",
    "        self.play(Create(self.gas), run_time = self.run_time)\n",
    "        \n",
    "        self.wait(2)\n",
    "        \n",
    "    def __call__(self):\n",
    "        return self"
   ]
  },
  {
   "cell_type": "code",
   "execution_count": 54,
   "metadata": {},
   "outputs": [
    {
     "name": "stderr",
     "output_type": "stream",
     "text": [
      "                                                          \r"
     ]
    },
    {
     "data": {
      "text/html": [
       "<video src=\"media\\jupyter\\ec81300e576e99912c0c360295d34ac18b37b6eb.mp4\" controls autoplay loop style=\"max-width: 25vw;\"  >\n",
       "      Your browser does not support the <code>video</code> element.\n",
       "    </video>"
      ],
      "text/plain": [
       "<IPython.core.display.Video object>"
      ]
     },
     "metadata": {},
     "output_type": "display_data"
    }
   ],
   "source": [
    "%%manim -v CRITICAL -ql PropaEM\n",
    "\n",
    "class PropaSine(VGroup):\n",
    "    def __init__(self, v=1, k=2*PI*np.array([1,0,0]), pola = np.array([0,1,0]), phase = 0, start_point = [0,0,0], color = YELLOW_D, *args, **kwargs):\n",
    "        super().__init__(*args, **kwargs)\n",
    "        self.v = v\n",
    "        self.k = k\n",
    "        self.pola = pola\n",
    "        self.phase = phase\n",
    "        self.custom_color = color\n",
    "        \n",
    "        self.t_offset = 0\n",
    "        \n",
    "        self.start_point = start_point + pola*np.sin(self.phase)\n",
    "        self.add(Line(self.start_point,self.start_point))\n",
    "        \n",
    "    def update_curve(self, mobj, dt):\n",
    "        self.t_offset += dt\n",
    "        last_line = self[-1]\n",
    "        s = self.v*self.t_offset\n",
    "        x = s*self.k/np.linalg.norm(self.k) \n",
    "        y = np.sin(np.linalg.norm(self.k)*s + self.phase)\n",
    "        new_point = x + y*self.pola\n",
    "\n",
    "        new_line = Line(last_line.get_end(), new_point, color=self.custom_color)\n",
    "        self.add(new_line)\n",
    "\n",
    "        return self\n",
    "\n",
    "        \n",
    "\n",
    "class PropaEM(ThreeDScene):\n",
    "    def construct(self):\n",
    "        axes = ThreeDAxes()\n",
    "        self.add(axes)\n",
    "    \n",
    "        self.curve1 = PropaSine(pola=np.array([0,0,1]))\n",
    "        self.curve2 = PropaSine(phase=PI/2, color=BLUE)\n",
    "\n",
    "        self.set_camera_orientation(phi=75 * DEGREES, theta=30 * DEGREES)\n",
    "        self.curve1.add_updater(self.curve1.update_curve)\n",
    "        self.curve2.add_updater(self.curve2.update_curve)\n",
    "        self.add(self.curve1, self.curve2)\n",
    "        self.wait(2)"
   ]
  },
  {
   "cell_type": "code",
   "execution_count": 37,
   "metadata": {},
   "outputs": [],
   "source": [
    "test = PropaSine(pola=np.array([0,0,1]))"
   ]
  },
  {
   "cell_type": "code",
   "execution_count": 39,
   "metadata": {},
   "outputs": [],
   "source": [
    "ta = test.update_curve(test,0.06)"
   ]
  },
  {
   "cell_type": "code",
   "execution_count": 6,
   "metadata": {},
   "outputs": [
    {
     "name": "stderr",
     "output_type": "stream",
     "text": [
      "                                                                                        \r"
     ]
    },
    {
     "data": {
      "text/html": [
       "<video src=\"media\\jupyter\\5dbc2d77f00948641b36abf5ac39f74f9e5d1d96.mp4\" controls autoplay loop style=\"max-width: 25vw;\"  >\n",
       "      Your browser does not support the <code>video</code> element.\n",
       "    </video>"
      ],
      "text/plain": [
       "<IPython.core.display.Video object>"
      ]
     },
     "metadata": {},
     "output_type": "display_data"
    }
   ],
   "source": [
    "%%manim -v CRITICAL -ql test\n",
    "\n",
    "class test(ThreeDScene):\n",
    "    def construct(self):\n",
    "        axes = ThreeDAxes()\n",
    "        self.add(axes)\n",
    "        self.set_camera_orientation(phi=75 * DEGREES, theta=30 * DEGREES)\n",
    "        \n",
    "        p = ValueTracker(0)\n",
    "        y = ParametricFunction(_create_func(p.get_value()), t_range=[0,p.get_value(),0.1])\n",
    "        y.add_updater(lambda m: m.become(ParametricFunction(_create_func(p.get_value()), t_range=[0,p.get_value(),0.1])))\n",
    "        self.add(y)\n",
    "        self.wait()\n",
    "        self.play(\n",
    "            ApplyMethod(p.increment_value,5),\n",
    "            run_time=5,\n",
    "        )\n",
    "        self.wait()\n",
    "\n",
    "        \n",
    "\n",
    "def _create_func(t):\n",
    "    t_tot = t\n",
    "    k = 2*np.pi\n",
    "    omega = 2*np.pi \n",
    "    def sine_wave(u):\n",
    "        Ex = u\n",
    "        Ey = np.sin(k*u - omega*t_tot)\n",
    "        Ez = 0 \n",
    "        return np.array([Ex,Ey,Ez])\n",
    "    return sine_wave\n",
    "        \n",
    "        \n",
    "class OscillatingEM(ParametricFunction):\n",
    "    def __init__(self, k=2*np.pi, omega=1, v=10, *args, **kwargs):\n",
    "        self.k = k\n",
    "        self.v = v\n",
    "        self.omega = omega\n",
    "        \n",
    "        self.t_accu = 0\n",
    "               \n",
    "        t_range = [0, self.t_accu]\n",
    "        t_min = 0\n",
    "        t_max = 5\n",
    "        func_init = self._create_func(t_max)\n",
    "                \n",
    "        super().__init__(func_init, t_min = t_min, t_max = t_max, *args, **kwargs)\n",
    "        \n",
    "        \n",
    "        \n",
    "    def _create_func(self,t):\n",
    "        t_tot = t\n",
    "        def sine_wave(u):\n",
    "            Ex = u\n",
    "            Ey = np.sin(self.k*u - self.omega*t_tot)\n",
    "            Ez = 0 \n",
    "            return np.array([Ex,Ey,Ez])\n",
    "        return sine_wave\n",
    "    \n",
    "    @staticmethod\n",
    "    def updater_test(obj, dt):\n",
    "        #obj.t_accu += dt\n",
    "        t_tot = obj.t_accu + dt\n",
    "        obj.function = obj._create_func(t_tot)\n",
    "        obj.t_accu = t_tot\n",
    "        #obj.t_max = obj.v*obj.t_accu\n"
   ]
  },
  {
   "cell_type": "code",
   "execution_count": 7,
   "metadata": {},
   "outputs": [
    {
     "data": {
      "text/plain": [
       "[<function __main__.OscillatingEM.updater_test(obj, dt)>]"
      ]
     },
     "execution_count": 7,
     "metadata": {},
     "output_type": "execute_result"
    }
   ],
   "source": [
    "ti = OscillatingEM()\n",
    "ti.get_updaters()\n"
   ]
  },
  {
   "cell_type": "markdown",
   "metadata": {},
   "source": [
    "## Section 1"
   ]
  },
  {
   "cell_type": "code",
   "execution_count": 39,
   "metadata": {},
   "outputs": [
    {
     "name": "stderr",
     "output_type": "stream",
     "text": [
      "                                                                                                                                               \r"
     ]
    },
    {
     "data": {
      "text/html": [
       "<video src=\"media\\jupyter\\10845fa143e3af5209957e0fa63b06424a0a81e7.mp4\" controls autoplay loop style=\"max-width: 25vw;\"  >\n",
       "      Your browser does not support the <code>video</code> element.\n",
       "    </video>"
      ],
      "text/plain": [
       "<IPython.core.display.Video object>"
      ]
     },
     "metadata": {},
     "output_type": "display_data"
    }
   ],
   "source": [
    "%%manim -v CRITICAL -ql Screen2\n",
    "\n",
    "class Screen2(Scene):\n",
    "    def construct(self):\n",
    "        eq_init = MathTex(\"\\\\bar{E}=\\\\bar{E}_{\\\\nu}\")\n",
    "        eq_moy = MathTex(\"\\\\bar{E}=(R / N) T\")\n",
    "        \n",
    "        #eq_planck = MathTex(\"\\\\bar{E}_{\\\\nu}=(\",\"L\",\"^{3}\",\" / 8 \\\\pi \\\\nu^{2}\\\\right)\",\"\\\\rho_{\\\\nu}\")\n",
    "        #eq_planck_c = MathTex(\"\\\\bar{E}_{\\\\nu}=(\",\"c\",\"^{3}\",\" / 8 \\\\pi \\\\nu^{2}\\\\right)\", \"\\\\rho_{\\\\nu}\")\n",
    "        \n",
    "        eq_planck = MathTex(\"\\\\bar{E}_{\\\\nu}= {\",\"L\",\"^{3}\",\" \\\\over 8\\\\pi\\\\nu^{2}\",\"} \\\\rho_{\\\\nu}\")\n",
    "        eq_planck_c = MathTex(\"\\\\bar{E}_{\\\\nu}= {\",\"c\",\"^{3}\",\" \\\\over 8\\\\pi\\\\nu^{2}\", \"} \\\\rho_{\\\\nu}\")\n",
    "        \n",
    "        #eq_final = MathTex(\"(R / N) T\",\"=\",\"(\",\"c^{3}\",\"/\",\"8 \\\\pi \\\\nu^{2}\",\")\",\"\\\\rho_{\\\\nu}\")\n",
    "        #eq_RJ = MathTex(\"\\\\rho_{\\\\nu}\",\"=\",\"(\",\"8 \\\\pi \\\\nu^{2}\",\"/\",\"c^{3}\",\")\",\"(R / N)T\")\n",
    "        \n",
    "        eq_final = MathTex(\"(R / N) T\",\"=\",\"{\",\"c^{3}\",\"\\\\over\",\"8\\\\pi\\\\nu^{2}\",\"}\",\"\\\\rho_{\\\\nu}\")\n",
    "        eq_RJ = MathTex(\"\\\\rho_{\\\\nu}\",\"=\",\"{\",\"8\\\\pi\\\\nu^{2}\",\"\\\\over\",\"c^{3}\",\"}\",\"(R / N)T\")\n",
    "        \n",
    "        eq_moy.shift(2*UP + 3*LEFT)\n",
    "        eq_planck.shift(2*UP + 3*RIGHT)\n",
    "        eq_planck_c.shift(2*UP + 3*RIGHT)\n",
    "        \n",
    "        scale = 1.5\n",
    "        eq_init.scale(scale)\n",
    "        eq_final.scale(scale)\n",
    "        eq_RJ.scale(scale)\n",
    "        \n",
    "        play_kw = {\"run_time\": 1}\n",
    "        \n",
    "        # add teh central initial equation\n",
    "        self.play(Write(eq_init), **play_kw)\n",
    "        \n",
    "        # add the oscillator's mean energy\n",
    "        self.play(Write(eq_moy), **play_kw)\n",
    "        \n",
    "        # add Planck's equation\n",
    "        self.play(Write(eq_planck), **play_kw)\n",
    "        \n",
    "        # change L for c as the name for the speed of light\n",
    "        L = eq_planck[1]\n",
    "        self.play(ApplyMethod(L.set_color, YELLOW), **play_kw)\n",
    "        self.play(ReplacementTransform(eq_planck[1], eq_planck_c[1]), **play_kw)\n",
    "        \n",
    "        # change rho_nu color for explanation\n",
    "        rho_nu = eq_planck[-1]\n",
    "        self.play(ApplyMethod(rho_nu.set_color, YELLOW), **play_kw)\n",
    "        self.play(ApplyMethod(rho_nu.set_color, WHITE), **play_kw)\n",
    "        \n",
    "        # replace sides in initial equation to get to Rayleigh-Jeans\n",
    "        self.play(ReplacementTransform(eq_init,eq_final), **play_kw)\n",
    "        self.play(TransformMatchingTex(eq_final, eq_RJ), **play_kw)\n",
    "        self.wait(2)"
   ]
  },
  {
   "cell_type": "code",
   "execution_count": null,
   "metadata": {},
   "outputs": [],
   "source": []
  }
 ],
 "metadata": {
  "kernelspec": {
   "display_name": "Python 3",
   "language": "python",
   "name": "python3"
  },
  "language_info": {
   "codemirror_mode": {
    "name": "ipython",
    "version": 3
   },
   "file_extension": ".py",
   "mimetype": "text/x-python",
   "name": "python",
   "nbconvert_exporter": "python",
   "pygments_lexer": "ipython3",
   "version": "3.7.6"
  }
 },
 "nbformat": 4,
 "nbformat_minor": 4
}
