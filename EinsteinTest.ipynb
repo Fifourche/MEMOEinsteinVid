{
 "cells": [
  {
   "cell_type": "code",
   "execution_count": 1,
   "metadata": {},
   "outputs": [
    {
     "data": {
      "text/html": [
       "<pre style=\"white-space:pre;overflow-x:auto;line-height:normal;font-family:Menlo,'DejaVu Sans Mono',consolas,'Courier New',monospace\">Manim Community <span style=\"color: #008000\">v0.7.0</span>\n",
       "\n",
       "</pre>\n"
      ],
      "text/plain": [
       "<rich.jupyter.JupyterRenderable at 0x22f7bccc888>"
      ]
     },
     "metadata": {},
     "output_type": "display_data"
    }
   ],
   "source": [
    "from manim import *\n",
    "import numpy as np\n",
    "from numpy.random import default_rng\n",
    "\n",
    "from custom_objects import *"
   ]
  },
  {
   "cell_type": "markdown",
   "metadata": {
    "tags": []
   },
   "source": [
    "# Equations - Einstein"
   ]
  },
  {
   "cell_type": "markdown",
   "metadata": {
    "tags": []
   },
   "source": [
    "## Introduction"
   ]
  },
  {
   "cell_type": "code",
   "execution_count": 2,
   "metadata": {
    "tags": []
   },
   "outputs": [
    {
     "name": "stderr",
     "output_type": "stream",
     "text": [
      "                                                                                           \r"
     ]
    },
    {
     "data": {
      "text/html": [
       "<video src=\"media\\jupyter\\3c3278e54cf5a8138fa6d2a3389804e2a130b4ba.mp4\" controls autoplay loop style=\"max-width: 25vw;\"  >\n",
       "      Your browser does not support the <code>video</code> element.\n",
       "    </video>"
      ],
      "text/plain": [
       "<IPython.core.display.Video object>"
      ]
     },
     "metadata": {},
     "output_type": "display_data"
    }
   ],
   "source": [
    "%%manim -v CRITICAL -ql GasInBox\n",
    "\n",
    "class EmptyBox(ThreeDScene):\n",
    "    def __init__(self, run_time = 2, **kwargs):\n",
    "        super().__init__()\n",
    "        self.run_time = run_time\n",
    "        self.arguments = kwargs    \n",
    "    \n",
    "    def construct(self):      \n",
    "        cube = WireCube(**self.arguments)\n",
    "        self.set_camera_orientation(phi=75 * DEGREES, theta=30 * DEGREES)\n",
    "        self.play(Create(cube), run_time = self.run_time)\n",
    "        \n",
    "    def __call__(self):\n",
    "        return self\n",
    "        \n",
    "class GasInBox(ThreeDScene):\n",
    "    def __init__(self, side = 4., center = np.array([0.,0.,0.]),\n",
    "                 N = 15, radius = 0.1, v_mean = 4./1.,\n",
    "                run_time = 2, sim_time = 4):\n",
    "\n",
    "        super().__init__()\n",
    "        \n",
    "        self.run_time = run_time\n",
    "        \n",
    "        # Create box\n",
    "        self.box = WireCube(side=side, center=center)\n",
    "        \n",
    "        # Create gas\n",
    "        x_lims = np.array([-side/2, side/2]) + center[0]\n",
    "        y_lims = np.array([-side/2, side/2]) + center[1]\n",
    "        z_lims = np.array([-side/2, side/2]) + center[2]\n",
    "        \n",
    "        self.gas = Gas(N = N, radius = radius, v_mean = v_mean, x_lims = x_lims, y_lims = y_lims, z_lims = z_lims, run_time = run_time, sim_time = sim_time)\n",
    "\n",
    "        \n",
    "    def construct(self):        \n",
    "        self.set_camera_orientation(phi=75 * DEGREES, theta=30 * DEGREES)\n",
    "        self.renderer.camera.light_source.move_to(3*IN) # changes the source of the light\n",
    "        \n",
    "        self.play(Create(self.box), run_time = self.run_time)\n",
    "        self.play(Create(self.gas), run_time = self.run_time)\n",
    "        \n",
    "        self.wait(2)\n",
    "        \n",
    "    def __call__(self):\n",
    "        return self"
   ]
  },
  {
   "cell_type": "code",
   "execution_count": 4,
   "metadata": {},
   "outputs": [
    {
     "name": "stderr",
     "output_type": "stream",
     "text": [
      "                                                          \r"
     ]
    },
    {
     "data": {
      "text/html": [
       "<video src=\"media\\jupyter\\e68df44ccc43cde582de421964fa4e6f81b7a42b.mp4\" controls autoplay loop style=\"max-width: 25vw;\"  >\n",
       "      Your browser does not support the <code>video</code> element.\n",
       "    </video>"
      ],
      "text/plain": [
       "<IPython.core.display.Video object>"
      ]
     },
     "metadata": {},
     "output_type": "display_data"
    }
   ],
   "source": [
    "%%manim -v CRITICAL -ql EM\n",
    "\n",
    "class EM(ThreeDScene):\n",
    "    def construct(self):\n",
    "        axes = ThreeDAxes()\n",
    "        self.add(axes)\n",
    "        self.set_camera_orientation(phi=75 * DEGREES, theta=30 * DEGREES)\n",
    "    \n",
    "        field1 = PropaEM(t_range=[0,0,0.1])\n",
    "        self.add(field1)\n",
    "\n",
    "        self.wait(2)"
   ]
  },
  {
   "cell_type": "markdown",
   "metadata": {},
   "source": [
    "## Section 1"
   ]
  },
  {
   "cell_type": "code",
   "execution_count": 39,
   "metadata": {},
   "outputs": [
    {
     "name": "stderr",
     "output_type": "stream",
     "text": [
      "                                                                                                                                               \r"
     ]
    },
    {
     "data": {
      "text/html": [
       "<video src=\"media\\jupyter\\10845fa143e3af5209957e0fa63b06424a0a81e7.mp4\" controls autoplay loop style=\"max-width: 25vw;\"  >\n",
       "      Your browser does not support the <code>video</code> element.\n",
       "    </video>"
      ],
      "text/plain": [
       "<IPython.core.display.Video object>"
      ]
     },
     "metadata": {},
     "output_type": "display_data"
    }
   ],
   "source": [
    "%%manim -v CRITICAL -ql Screen2\n",
    "\n",
    "class Screen2(Scene):\n",
    "    def construct(self):\n",
    "        eq_init = MathTex(\"\\\\bar{E}=\\\\bar{E}_{\\\\nu}\")\n",
    "        eq_moy = MathTex(\"\\\\bar{E}=(R / N) T\")\n",
    "        \n",
    "        #eq_planck = MathTex(\"\\\\bar{E}_{\\\\nu}=(\",\"L\",\"^{3}\",\" / 8 \\\\pi \\\\nu^{2}\\\\right)\",\"\\\\rho_{\\\\nu}\")\n",
    "        #eq_planck_c = MathTex(\"\\\\bar{E}_{\\\\nu}=(\",\"c\",\"^{3}\",\" / 8 \\\\pi \\\\nu^{2}\\\\right)\", \"\\\\rho_{\\\\nu}\")\n",
    "        \n",
    "        eq_planck = MathTex(\"\\\\bar{E}_{\\\\nu}= {\",\"L\",\"^{3}\",\" \\\\over 8\\\\pi\\\\nu^{2}\",\"} \\\\rho_{\\\\nu}\")\n",
    "        eq_planck_c = MathTex(\"\\\\bar{E}_{\\\\nu}= {\",\"c\",\"^{3}\",\" \\\\over 8\\\\pi\\\\nu^{2}\", \"} \\\\rho_{\\\\nu}\")\n",
    "        \n",
    "        #eq_final = MathTex(\"(R / N) T\",\"=\",\"(\",\"c^{3}\",\"/\",\"8 \\\\pi \\\\nu^{2}\",\")\",\"\\\\rho_{\\\\nu}\")\n",
    "        #eq_RJ = MathTex(\"\\\\rho_{\\\\nu}\",\"=\",\"(\",\"8 \\\\pi \\\\nu^{2}\",\"/\",\"c^{3}\",\")\",\"(R / N)T\")\n",
    "        \n",
    "        eq_final = MathTex(\"(R / N) T\",\"=\",\"{\",\"c^{3}\",\"\\\\over\",\"8\\\\pi\\\\nu^{2}\",\"}\",\"\\\\rho_{\\\\nu}\")\n",
    "        eq_RJ = MathTex(\"\\\\rho_{\\\\nu}\",\"=\",\"{\",\"8\\\\pi\\\\nu^{2}\",\"\\\\over\",\"c^{3}\",\"}\",\"(R / N)T\")\n",
    "        \n",
    "        eq_moy.shift(2*UP + 3*LEFT)\n",
    "        eq_planck.shift(2*UP + 3*RIGHT)\n",
    "        eq_planck_c.shift(2*UP + 3*RIGHT)\n",
    "        \n",
    "        scale = 1.5\n",
    "        eq_init.scale(scale)\n",
    "        eq_final.scale(scale)\n",
    "        eq_RJ.scale(scale)\n",
    "        \n",
    "        play_kw = {\"run_time\": 1}\n",
    "        \n",
    "        # add teh central initial equation\n",
    "        self.play(Write(eq_init), **play_kw)\n",
    "        \n",
    "        # add the oscillator's mean energy\n",
    "        self.play(Write(eq_moy), **play_kw)\n",
    "        \n",
    "        # add Planck's equation\n",
    "        self.play(Write(eq_planck), **play_kw)\n",
    "        \n",
    "        # change L for c as the name for the speed of light\n",
    "        L = eq_planck[1]\n",
    "        self.play(ApplyMethod(L.set_color, YELLOW), **play_kw)\n",
    "        self.play(ReplacementTransform(eq_planck[1], eq_planck_c[1]), **play_kw)\n",
    "        \n",
    "        # change rho_nu color for explanation\n",
    "        rho_nu = eq_planck[-1]\n",
    "        self.play(ApplyMethod(rho_nu.set_color, YELLOW), **play_kw)\n",
    "        self.play(ApplyMethod(rho_nu.set_color, WHITE), **play_kw)\n",
    "        \n",
    "        # replace sides in initial equation to get to Rayleigh-Jeans\n",
    "        self.play(ReplacementTransform(eq_init,eq_final), **play_kw)\n",
    "        self.play(TransformMatchingTex(eq_final, eq_RJ), **play_kw)\n",
    "        self.wait(2)"
   ]
  },
  {
   "cell_type": "code",
   "execution_count": null,
   "metadata": {},
   "outputs": [],
   "source": []
  }
 ],
 "metadata": {
  "kernelspec": {
   "display_name": "Python 3",
   "language": "python",
   "name": "python3"
  },
  "language_info": {
   "codemirror_mode": {
    "name": "ipython",
    "version": 3
   },
   "file_extension": ".py",
   "mimetype": "text/x-python",
   "name": "python",
   "nbconvert_exporter": "python",
   "pygments_lexer": "ipython3",
   "version": "3.7.6"
  }
 },
 "nbformat": 4,
 "nbformat_minor": 4
}
