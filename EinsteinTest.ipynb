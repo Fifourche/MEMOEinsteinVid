{
 "cells": [
  {
   "cell_type": "code",
   "execution_count": 2,
   "metadata": {},
   "outputs": [],
   "source": [
    "from manim import *\n",
    "import numpy as np\n",
    "from numpy.random import default_rng\n",
    "\n",
    "from custom_objects import *"
   ]
  },
  {
   "cell_type": "markdown",
   "metadata": {
    "tags": []
   },
   "source": [
    "# Equations - Einstein"
   ]
  },
  {
   "cell_type": "markdown",
   "metadata": {
    "tags": []
   },
   "source": [
    "## Introduction"
   ]
  },
  {
   "cell_type": "code",
   "execution_count": 25,
   "metadata": {
    "tags": []
   },
   "outputs": [
    {
     "name": "stderr",
     "output_type": "stream",
     "text": [
      "                                                                                                 \r"
     ]
    },
    {
     "data": {
      "text/html": [
       "<video src=\"media\\jupyter\\ab724c0886b2f0444a6b668eccc1e4e0462ecf1b.mp4\" controls autoplay loop style=\"max-width: 25vw;\"  >\n",
       "      Your browser does not support the <code>video</code> element.\n",
       "    </video>"
      ],
      "text/plain": [
       "<IPython.core.display.Video object>"
      ]
     },
     "metadata": {},
     "output_type": "display_data"
    }
   ],
   "source": [
    "%%manim -v CRITICAL -ql GasInBox\n",
    "\n",
    "class EmptyBox(ThreeDScene):\n",
    "    def __init__(self, run_time = 2, **kwargs):\n",
    "        super().__init__()\n",
    "        self.run_time = run_time\n",
    "        self.arguments = kwargs    \n",
    "    \n",
    "    def construct(self):      \n",
    "        cube = WireCube(**self.arguments)\n",
    "        self.set_camera_orientation(phi=75 * DEGREES, theta=30 * DEGREES)\n",
    "        self.play(Create(cube), run_time = self.run_time)\n",
    "        \n",
    "    def __call__(self):\n",
    "        return self\n",
    "        \n",
    "class GasInBox(ThreeDScene):\n",
    "    def __init__(self, side = 4., center = np.array([0.,0.,0.]),\n",
    "                 N = 15, radius = 0.1, v_mean = 4./1.,\n",
    "                run_time = 2, sim_time = 4):\n",
    "\n",
    "        super().__init__()\n",
    "        \n",
    "        # for the box\n",
    "        self.side = side\n",
    "        self.center = center\n",
    "\n",
    "        # for the gas\n",
    "        self.N = N\n",
    "        self.radius = radius\n",
    "        self.v_mean = v_mean\n",
    "        \n",
    "        # for animation\n",
    "        self.run_time = run_time\n",
    "        self.sim_time = sim_time\n",
    "        \n",
    "    def construct(self):\n",
    "\n",
    "        # Initialize (r,v)\n",
    "        rng = np.random.default_rng()\n",
    "        r = rng.random(size=(self.N,3)) * (self.side - 2*self.radius)/2 + self.center\n",
    "        v = rng.standard_normal(size=(self.N,3)) * self.v_mean\n",
    "\n",
    "        def update_positions(r, v, dt):\n",
    "            # update the positions\n",
    "            r += dt * v\n",
    "\n",
    "            # check for collisions with the walls\n",
    "            walls = np.abs(r - self.center) + self.radius > self.side/2\n",
    "            while walls.any():\n",
    "                v[walls] *= -1\n",
    "                r[walls] -= self.radius * np.sign(r[walls])\n",
    "                walls = np.abs(r - self.center) + self.radius > self.side/2\n",
    "\n",
    "\n",
    "        def update_particles(particles, dt):\n",
    "            update_positions(r,v,dt)\n",
    "            for i, particle in enumerate(particles):\n",
    "                particle.move_to(r[i,:])\n",
    "\n",
    "        # Create particles\n",
    "        particles = Particles(self.N, r, radius=self.radius)\n",
    "        particles.add_updater(update_particles)\n",
    "        \n",
    "        # Create cube\n",
    "        cube = WireCube(side=self.side, center=self.center)\n",
    "        \n",
    "        self.set_camera_orientation(phi=75 * DEGREES, theta=30 * DEGREES)\n",
    "        self.renderer.camera.light_source.move_to(3*IN) # changes the source of the light\n",
    "        self.play(Create(cube), run_time = self.run_time)\n",
    "        self.play(Create(particles), run_time = self.run_time)\n",
    "        self.wait(self.sim_time)\n",
    "        \n",
    "    def __call__(self):\n",
    "        return self\n",
    "        "
   ]
  },
  {
   "cell_type": "markdown",
   "metadata": {},
   "source": [
    "## Section 1"
   ]
  },
  {
   "cell_type": "code",
   "execution_count": 39,
   "metadata": {},
   "outputs": [
    {
     "name": "stderr",
     "output_type": "stream",
     "text": [
      "                                                                                                                                               \r"
     ]
    },
    {
     "data": {
      "text/html": [
       "<video src=\"media\\jupyter\\10845fa143e3af5209957e0fa63b06424a0a81e7.mp4\" controls autoplay loop style=\"max-width: 25vw;\"  >\n",
       "      Your browser does not support the <code>video</code> element.\n",
       "    </video>"
      ],
      "text/plain": [
       "<IPython.core.display.Video object>"
      ]
     },
     "metadata": {},
     "output_type": "display_data"
    }
   ],
   "source": [
    "%%manim -v CRITICAL -ql Screen2\n",
    "\n",
    "class Screen2(Scene):\n",
    "    def construct(self):\n",
    "        eq_init = MathTex(\"\\\\bar{E}=\\\\bar{E}_{\\\\nu}\")\n",
    "        eq_moy = MathTex(\"\\\\bar{E}=(R / N) T\")\n",
    "        \n",
    "        #eq_planck = MathTex(\"\\\\bar{E}_{\\\\nu}=(\",\"L\",\"^{3}\",\" / 8 \\\\pi \\\\nu^{2}\\\\right)\",\"\\\\rho_{\\\\nu}\")\n",
    "        #eq_planck_c = MathTex(\"\\\\bar{E}_{\\\\nu}=(\",\"c\",\"^{3}\",\" / 8 \\\\pi \\\\nu^{2}\\\\right)\", \"\\\\rho_{\\\\nu}\")\n",
    "        \n",
    "        eq_planck = MathTex(\"\\\\bar{E}_{\\\\nu}= {\",\"L\",\"^{3}\",\" \\\\over 8\\\\pi\\\\nu^{2}\",\"} \\\\rho_{\\\\nu}\")\n",
    "        eq_planck_c = MathTex(\"\\\\bar{E}_{\\\\nu}= {\",\"c\",\"^{3}\",\" \\\\over 8\\\\pi\\\\nu^{2}\", \"} \\\\rho_{\\\\nu}\")\n",
    "        \n",
    "        #eq_final = MathTex(\"(R / N) T\",\"=\",\"(\",\"c^{3}\",\"/\",\"8 \\\\pi \\\\nu^{2}\",\")\",\"\\\\rho_{\\\\nu}\")\n",
    "        #eq_RJ = MathTex(\"\\\\rho_{\\\\nu}\",\"=\",\"(\",\"8 \\\\pi \\\\nu^{2}\",\"/\",\"c^{3}\",\")\",\"(R / N)T\")\n",
    "        \n",
    "        eq_final = MathTex(\"(R / N) T\",\"=\",\"{\",\"c^{3}\",\"\\\\over\",\"8\\\\pi\\\\nu^{2}\",\"}\",\"\\\\rho_{\\\\nu}\")\n",
    "        eq_RJ = MathTex(\"\\\\rho_{\\\\nu}\",\"=\",\"{\",\"8\\\\pi\\\\nu^{2}\",\"\\\\over\",\"c^{3}\",\"}\",\"(R / N)T\")\n",
    "        \n",
    "        eq_moy.shift(2*UP + 3*LEFT)\n",
    "        eq_planck.shift(2*UP + 3*RIGHT)\n",
    "        eq_planck_c.shift(2*UP + 3*RIGHT)\n",
    "        \n",
    "        scale = 1.5\n",
    "        eq_init.scale(scale)\n",
    "        eq_final.scale(scale)\n",
    "        eq_RJ.scale(scale)\n",
    "        \n",
    "        play_kw = {\"run_time\": 1}\n",
    "        \n",
    "        # add teh central initial equation\n",
    "        self.play(Write(eq_init), **play_kw)\n",
    "        \n",
    "        # add the oscillator's mean energy\n",
    "        self.play(Write(eq_moy), **play_kw)\n",
    "        \n",
    "        # add Planck's equation\n",
    "        self.play(Write(eq_planck), **play_kw)\n",
    "        \n",
    "        # change L for c as the name for the speed of light\n",
    "        L = eq_planck[1]\n",
    "        self.play(ApplyMethod(L.set_color, YELLOW), **play_kw)\n",
    "        self.play(ReplacementTransform(eq_planck[1], eq_planck_c[1]), **play_kw)\n",
    "        \n",
    "        # change rho_nu color for explanation\n",
    "        rho_nu = eq_planck[-1]\n",
    "        self.play(ApplyMethod(rho_nu.set_color, YELLOW), **play_kw)\n",
    "        self.play(ApplyMethod(rho_nu.set_color, WHITE), **play_kw)\n",
    "        \n",
    "        # replace sides in initial equation to get to Rayleigh-Jeans\n",
    "        self.play(ReplacementTransform(eq_init,eq_final), **play_kw)\n",
    "        self.play(TransformMatchingTex(eq_final, eq_RJ), **play_kw)\n",
    "        self.wait(2)"
   ]
  },
  {
   "cell_type": "code",
   "execution_count": null,
   "metadata": {},
   "outputs": [],
   "source": []
  }
 ],
 "metadata": {
  "kernelspec": {
   "display_name": "Python 3",
   "language": "python",
   "name": "python3"
  },
  "language_info": {
   "codemirror_mode": {
    "name": "ipython",
    "version": 3
   },
   "file_extension": ".py",
   "mimetype": "text/x-python",
   "name": "python",
   "nbconvert_exporter": "python",
   "pygments_lexer": "ipython3",
   "version": "3.7.6"
  }
 },
 "nbformat": 4,
 "nbformat_minor": 4
}
