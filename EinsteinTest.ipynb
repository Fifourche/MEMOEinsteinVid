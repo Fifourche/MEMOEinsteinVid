{
 "cells": [
  {
   "cell_type": "code",
   "execution_count": 41,
   "metadata": {},
   "outputs": [],
   "source": [
    "from manim import *\n",
    "import numpy as np"
   ]
  },
  {
   "cell_type": "markdown",
   "metadata": {
    "tags": []
   },
   "source": [
    "# Equations - Einstein"
   ]
  },
  {
   "cell_type": "markdown",
   "metadata": {},
   "source": [
    "## Introduction"
   ]
  },
  {
   "cell_type": "code",
   "execution_count": 42,
   "metadata": {},
   "outputs": [
    {
     "name": "stderr",
     "output_type": "stream",
     "text": [
      "                                                                                               \r"
     ]
    },
    {
     "data": {
      "text/html": [
       "<video src=\"media\\jupyter\\8006f1b39d49b3b68103816159328d6dcf548a9b.mp4\" controls autoplay loop style=\"max-width: 25vw;\"  >\n",
       "      Your browser does not support the <code>video</code> element.\n",
       "    </video>"
      ],
      "text/plain": [
       "<IPython.core.display.Video object>"
      ]
     },
     "metadata": {},
     "output_type": "display_data"
    }
   ],
   "source": [
    "%%manim -v CRITICAL -ql DrawWireCube\n",
    "\n",
    "class DrawWireCube(ThreeDScene):\n",
    "    def construct(self):      \n",
    "        # edges of a unit cube with corner at (0,0,0)\n",
    "        edges = np.array([[(0,0,0),(1,0,0)],\n",
    "            [(0,0,0),(0,1,0)],\n",
    "            [(0,0,0),(0,0,1)],\n",
    "            [(1,0,0),(1,1,0)],\n",
    "            [(1,0,0),(1,0,1)],\n",
    "            [(0,1,0),(1,1,0)],\n",
    "            [(0,1,0),(0,1,1)],\n",
    "            [(1,1,0),(1,1,1)],\n",
    "            [(1,1,1),(1,0,1)],\n",
    "            [(1,1,1),(0,1,1)],\n",
    "            [(1,0,1),(0,0,1)],\n",
    "            [(0,1,1),(0,0,1)]], dtype=\"f\")\n",
    "        \n",
    "        # define size and center of wanted cube\n",
    "        side = 4\n",
    "        center = np.array([0,0,0])\n",
    "        \n",
    "        # define the cube as lines\n",
    "        vg = VGroup()\n",
    "        for edge in edges:\n",
    "            edge -= center + np.array([0.5,0.5,0.5])\n",
    "            edge *= side\n",
    "            vg.add(Line(*edge, color=BLUE))\n",
    "            \n",
    "        self.set_camera_orientation(phi=75 * DEGREES, theta=30 * DEGREES)\n",
    "        self.play(Create(vg), run_time = 2)\n",
    "        \n",
    "        self.wait(2)"
   ]
  },
  {
   "cell_type": "markdown",
   "metadata": {},
   "source": [
    "## Section 1"
   ]
  },
  {
   "cell_type": "code",
   "execution_count": 43,
   "metadata": {},
   "outputs": [
    {
     "name": "stderr",
     "output_type": "stream",
     "text": [
      "                                                                                                                                               \r"
     ]
    },
    {
     "data": {
      "text/html": [
       "<video src=\"media\\jupyter\\3b84cc8ca1bed0a9ab2abb2bbcda0184a93192b7.mp4\" controls autoplay loop style=\"max-width: 25vw;\"  >\n",
       "      Your browser does not support the <code>video</code> element.\n",
       "    </video>"
      ],
      "text/plain": [
       "<IPython.core.display.Video object>"
      ]
     },
     "metadata": {},
     "output_type": "display_data"
    }
   ],
   "source": [
    "%%manim -v CRITICAL -ql Screen2\n",
    "\n",
    "class Screen2(Scene):\n",
    "    def construct(self):\n",
    "        eq_init = MathTex(\"\\\\bar{E}=\\\\bar{E}_{\\\\nu}\")\n",
    "        eq_moy = MathTex(\"\\\\bar{E}=(R / N) T\")\n",
    "        eq_planck = MathTex(\"\\\\bar{E}_{\\\\nu}=(\",\"L\",\"^{3}\",\" / 8 \\\\pi \\\\nu^{2}\\\\right)\",\"\\\\rho_{\\\\nu}\")\n",
    "        eq_planck_c = MathTex(\"\\\\bar{E}_{\\\\nu}=(\",\"c\",\"^{3}\",\" / 8 \\\\pi \\\\nu^{2}\\\\right)\", \"\\\\rho_{\\\\nu}\")\n",
    "        eq_final = MathTex(\"(R / N) T\",\"=\",\"(\",\"c^{3}\",\"/\",\"8 \\\\pi \\\\nu^{2}\",\")\",\"\\\\rho_{\\\\nu}\")\n",
    "        eq_RJ = MathTex(\"\\\\rho_{\\\\nu}\",\"=\",\"(\",\"8 \\\\pi \\\\nu^{2}\",\"/\",\"L^{3}\",\")\",\"(R / N)T\")\n",
    "        \n",
    "        eq_moy.shift(2*UP + 3*LEFT)\n",
    "        eq_planck.shift(2*UP + 3*RIGHT)\n",
    "        eq_planck_c.shift(2*UP + 3*RIGHT)\n",
    "        \n",
    "        play_kw = {\"run_time\": 1}\n",
    "        \n",
    "        # add teh central initial equation\n",
    "        self.play(Write(eq_init), **play_kw)\n",
    "        \n",
    "        # add the oscillator's mean energy\n",
    "        self.play(Write(eq_moy), **play_kw)\n",
    "        \n",
    "        # add Planck's equation\n",
    "        self.play(Write(eq_planck), **play_kw)\n",
    "        \n",
    "        # change L for c as the name for the speed of light\n",
    "        L = eq_planck[1]\n",
    "        self.play(ApplyMethod(L.set_color, YELLOW), **play_kw)\n",
    "        self.play(ReplacementTransform(eq_planck[1], eq_planck_c[1]), **play_kw)\n",
    "        \n",
    "        # change rho_nu color for explanation\n",
    "        rho_nu = eq_planck[-1]\n",
    "        self.play(ApplyMethod(rho_nu.set_color, YELLOW), **play_kw)\n",
    "        self.play(ApplyMethod(rho_nu.set_color, WHITE), **play_kw)\n",
    "        \n",
    "        # replace sides in initial equation to get to Rayleigh-Jeans\n",
    "        self.play(ReplacementTransform(eq_init,eq_final), **play_kw)\n",
    "        self.play(TransformMatchingTex(eq_final, eq_RJ), **play_kw)\n",
    "        self.wait(2)"
   ]
  },
  {
   "cell_type": "code",
   "execution_count": null,
   "metadata": {},
   "outputs": [],
   "source": []
  }
 ],
 "metadata": {
  "kernelspec": {
   "display_name": "Python 3",
   "language": "python",
   "name": "python3"
  },
  "language_info": {
   "codemirror_mode": {
    "name": "ipython",
    "version": 3
   },
   "file_extension": ".py",
   "mimetype": "text/x-python",
   "name": "python",
   "nbconvert_exporter": "python",
   "pygments_lexer": "ipython3",
   "version": "3.7.6"
  }
 },
 "nbformat": 4,
 "nbformat_minor": 4
}
